{
 "cells": [
  {
   "cell_type": "markdown",
   "metadata": {},
   "source": [
    "# Experimentos de Azure Machine Learning\n",
    "Como cualquier disciplina científica, la ciencia de datos implica realizar experimentos ; típicamente para explorar datos o para construir y evaluar modelos predictivos. En Azure Machine Learning, un experimento es un proceso con nombre, normalmente la ejecución de un script o una canalización, que puede generar métricas y resultados y realizar un seguimiento en el área de trabajo de Azure Machine Learning.\n",
    "\n",
    "![](./img/03-01-experiment.jpg)\n",
    "\n",
    "Un experimento se puede ejecutar varias veces, con diferentes datos, códigos o configuraciones; y Azure Machine Learning realiza un seguimiento de cada ejecución, lo que le permite ver el historial de ejecución y comparar los resultados de cada ejecución."
   ]
  },
  {
   "cell_type": "markdown",
   "metadata": {},
   "source": [
    "# El contexto de ejecución del experimento\n",
    "Cuando envía un experimento, usa su contexto de ejecución para inicializar y finalizar la ejecución del experimento que se rastrea en Azure Machine Learning, como se muestra en el siguiente ejemplo de código:"
   ]
  },
  {
   "cell_type": "code",
   "execution_count": null,
   "metadata": {},
   "outputs": [],
   "source": [
    "from azureml.core import Workspace\n",
    "ws = Workspace.from_config()"
   ]
  },
  {
   "cell_type": "code",
   "execution_count": null,
   "metadata": {},
   "outputs": [],
   "source": [
    "for compute_name in ws.compute_targets:\n",
    "    compute = ws.compute_targets[compute_name]\n",
    "    print(compute.name, \":\", compute.type)\n",
    "    "
   ]
  },
  {
   "cell_type": "code",
   "execution_count": null,
   "metadata": {},
   "outputs": [],
   "source": [
    "from azureml.core import Experiment\n",
    "\n",
    "# create an experiment variable\n",
    "experiment = Experiment(workspace = ws, name = \"my-experiment\")\n",
    "\n",
    "# start the experiment\n",
    "run = experiment.start_logging()\n",
    "\n",
    "# experiment code goes here\n",
    "\n",
    "# end the experiment\n",
    "run.complete()"
   ]
  },
  {
   "cell_type": "markdown",
   "metadata": {},
   "source": [
    "# Métricas de registro\n",
    "Cada experimento genera archivos de registro que incluyen los mensajes que se escribirían en el terminal durante la ejecución interactiva. Esto le permite usar \"print\" declaraciones simples para escribir mensajes en el registro. Sin embargo, si deseamos registrar métricas con nombre para comparar entre ejecuciones(RUN), puede hacerlo mediante el objeto Run ; que proporciona una gama de funciones de registro específicamente para este propósito. Éstos incluyen:\n",
    "\n",
    "- log : registra un solo valor con nombre.\n",
    "- log_list : registra una lista de valores con nombre.\n",
    "- log_row : registra una fila con varias columnas.\n",
    "- log_table : registra un diccionario como una tabla.\n",
    "- log_image : graba un archivo de imagen o un gráfico."
   ]
  },
  {
   "cell_type": "code",
   "execution_count": null,
   "metadata": {},
   "outputs": [],
   "source": [
    "# load the dataset and count the rows\n",
    "data = pd.read_csv('data.csv')\n",
    "row_count = (len(data))\n",
    "\n",
    "# Log the row count\n",
    "run.log('observations', row_count)\n",
    "\n",
    "# Complete the experiment\n",
    "run.complete()\n",
    "\n"
   ]
  },
  {
   "cell_type": "markdown",
   "metadata": {},
   "source": []
  },
  {
   "cell_type": "code",
   "execution_count": null,
   "metadata": {},
   "outputs": [],
   "source": []
  }
 ],
 "metadata": {
  "kernelspec": {
   "display_name": "Python 3.8.10 64-bit",
   "language": "python",
   "name": "python3"
  },
  "language_info": {
   "codemirror_mode": {
    "name": "ipython",
    "version": 3
   },
   "file_extension": ".py",
   "mimetype": "text/x-python",
   "name": "python",
   "nbconvert_exporter": "python",
   "pygments_lexer": "ipython3",
   "version": "3.8.10"
  },
  "orig_nbformat": 4,
  "vscode": {
   "interpreter": {
    "hash": "31f2aee4e71d21fbe5cf8b01ff0e069b9275f58929596ceb00d14d90e3e16cd6"
   }
  }
 },
 "nbformat": 4,
 "nbformat_minor": 2
}
