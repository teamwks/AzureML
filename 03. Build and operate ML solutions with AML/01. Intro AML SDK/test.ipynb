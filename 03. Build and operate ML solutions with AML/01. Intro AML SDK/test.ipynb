{
 "cells": [
  {
   "cell_type": "markdown",
   "metadata": {},
   "source": [
    "# Introducción\n",
    "Azure Machine Learning es una plataforma para operar cargas de trabajo de aprendizaje automático en la nube.\n",
    "\n",
    "Basado en la plataforma en la nube de Microsoft Azure, Azure Machine Learning le permite administrar:\n",
    "\n",
    "- Computación bajo demanda escalable para cargas de trabajo de aprendizaje automático.\n",
    "- Almacenamiento de datos y conectividad para ingerir datos de una amplia gama de fuentes.\n",
    "- Orquestación del flujo de trabajo de aprendizaje automático para automatizar los procesos de capacitación, implementación y administración de modelos.\n",
    "- Registro y administración de modelos, para que pueda rastrear múltiples versiones de modelos y los datos en los que fueron entrenados.\n",
    "- Métricas y monitoreo para experimentos de entrenamiento, conjuntos de datos y servicios publicados.\n",
    "- Implementación de modelos para inferencias por lotes y en tiempo real."
   ]
  },
  {
   "cell_type": "markdown",
   "metadata": {},
   "source": [
    "# Objetivos de aprendizaje\n",
    "En este módulo, aprenderá cómo:\n",
    "\n",
    "- Aprovisione un área de trabajo de Azure Machine Learning.\n",
    "- Utilice herramientas e interfaces para trabajar con Azure Machine Learning.\n",
    "- Ejecute experimentos basados en código en un área de trabajo de Azure Machine Learning."
   ]
  },
  {
   "cell_type": "markdown",
   "metadata": {},
   "source": [
    "# Áreas de trabajo de Azure Machine Learning\n",
    "Un espacio de trabajo es un contexto para los experimentos, los datos, los objetivos de proceso y otros activos asociados con una carga de trabajo de aprendizaje automático.\n",
    "\n",
    "### Espacios de trabajo para activos de aprendizaje automático\n",
    "Un espacio de trabajo define el límite de un conjunto de activos de aprendizaje automático relacionados. Puede usar espacios de trabajo para agrupar activos de aprendizaje automático en función de proyectos, entornos de implementación (por ejemplo, prueba y producción), equipos o algún otro principio de organización. Los activos en un espacio de trabajo incluyen:\n",
    "\n",
    "- Calcule los objetivos para el desarrollo, la capacitación y la implementación.\n",
    "- Datos para experimentación y entrenamiento de modelos.\n",
    "- Cuadernos que contienen código compartido y documentación.\n",
    "- Experimentos, incluido el historial de ejecución con métricas y resultados registrados.\n",
    "- Canalizaciones que definen procesos orquestados de varios pasos.\n",
    "- Modelos que has entrenado.\n",
    "\n",
    "## Áreas de trabajo como recursos de Azure\n",
    "Los espacios de trabajo son recursos de Azure y, como tales, se definen dentro de un grupo de recursos en una suscripción de Azure, junto con otros recursos de Azure relacionados que son necesarios para admitir el espacio de trabajo\n",
    "\n",
    "![](./img/03-01-experiment.jpg)\n",
    "![](./img/01-01-what-is-azure-ml.jpg)\n",
    "AzureML/03. Build and operate ML solutions with AML/img/01-01-what-is-azure-ml.jpg\n"
   ]
  },
  {
   "cell_type": "markdown",
   "metadata": {},
   "source": []
  }
 ],
 "metadata": {
  "kernelspec": {
   "display_name": "Python 3.8.10 64-bit",
   "language": "python",
   "name": "python3"
  },
  "language_info": {
   "name": "python",
   "version": "3.8.10"
  },
  "orig_nbformat": 4,
  "vscode": {
   "interpreter": {
    "hash": "916dbcbb3f70747c44a77c7bcd40155683ae19c65e1c03b4aa3499c5328201f1"
   }
  }
 },
 "nbformat": 4,
 "nbformat_minor": 2
}
